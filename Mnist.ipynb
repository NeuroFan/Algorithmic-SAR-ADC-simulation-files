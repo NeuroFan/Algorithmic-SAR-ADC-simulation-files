{
  "nbformat": 4,
  "nbformat_minor": 0,
  "metadata": {
    "colab": {
      "name": "Mnist.ipynb",
      "provenance": [],
      "include_colab_link": true
    },
    "kernelspec": {
      "name": "python3",
      "display_name": "Python 3"
    },
    "language_info": {
      "name": "python"
    }
  },
  "cells": [
    {
      "cell_type": "markdown",
      "metadata": {
        "id": "view-in-github",
        "colab_type": "text"
      },
      "source": [
        "<a href=\"https://colab.research.google.com/github/NeuroFan/Algorithmic-SAR-ADC-simulation-files/blob/master/Mnist.ipynb\" target=\"_parent\"><img src=\"https://colab.research.google.com/assets/colab-badge.svg\" alt=\"Open In Colab\"/></a>"
      ]
    },
    {
      "cell_type": "markdown",
      "metadata": {
        "id": "ZddkOzI6ANFI"
      },
      "source": [
        ""
      ]
    },
    {
      "cell_type": "code",
      "metadata": {
        "id": "b2RWAmeP-Zyj",
        "colab": {
          "base_uri": "https://localhost:8080/"
        },
        "outputId": "5de443c7-bec8-4af3-f6fd-789e66108dc3"
      },
      "source": [
        "! [ ! -z \"$COLAB_GPU\" ] && pip install torch scikit-learn==0.20.* skorch"
      ],
      "execution_count": null,
      "outputs": [
        {
          "output_type": "stream",
          "text": [
            "Requirement already satisfied: torch in /usr/local/lib/python3.7/dist-packages (1.9.0+cu102)\n",
            "Collecting scikit-learn==0.20.*\n",
            "  Downloading scikit_learn-0.20.4-cp37-cp37m-manylinux1_x86_64.whl (5.4 MB)\n",
            "\u001b[K     |████████████████████████████████| 5.4 MB 4.6 MB/s \n",
            "\u001b[?25hCollecting skorch\n",
            "  Downloading skorch-0.10.0-py3-none-any.whl (128 kB)\n",
            "\u001b[K     |████████████████████████████████| 128 kB 20.1 MB/s \n",
            "\u001b[?25hRequirement already satisfied: numpy>=1.8.2 in /usr/local/lib/python3.7/dist-packages (from scikit-learn==0.20.*) (1.19.5)\n",
            "Requirement already satisfied: scipy>=0.13.3 in /usr/local/lib/python3.7/dist-packages (from scikit-learn==0.20.*) (1.4.1)\n",
            "Requirement already satisfied: typing-extensions in /usr/local/lib/python3.7/dist-packages (from torch) (3.7.4.3)\n",
            "Requirement already satisfied: tabulate>=0.7.7 in /usr/local/lib/python3.7/dist-packages (from skorch) (0.8.9)\n",
            "Requirement already satisfied: tqdm>=4.14.0 in /usr/local/lib/python3.7/dist-packages (from skorch) (4.62.0)\n",
            "Installing collected packages: scikit-learn, skorch\n",
            "  Attempting uninstall: scikit-learn\n",
            "    Found existing installation: scikit-learn 0.22.2.post1\n",
            "    Uninstalling scikit-learn-0.22.2.post1:\n",
            "      Successfully uninstalled scikit-learn-0.22.2.post1\n",
            "Successfully installed scikit-learn-0.20.4 skorch-0.10.0\n"
          ],
          "name": "stdout"
        }
      ]
    },
    {
      "cell_type": "code",
      "metadata": {
        "id": "2vkLGGLBAcVO"
      },
      "source": [
        "from sklearn.datasets import fetch_openml\n",
        "from sklearn.model_selection import train_test_split\n",
        "import numpy as np\n",
        "import matplotlib.pyplot as plt\n",
        "import torch\n",
        "from torch import nn\n",
        "import torch.nn.functional as F\n",
        "from keras.models import Sequential\n",
        "from keras.layers import Dense\n",
        "from keras.models import model_from_json\n",
        "import numpy\n",
        "import os"
      ],
      "execution_count": null,
      "outputs": []
    },
    {
      "cell_type": "code",
      "metadata": {
        "id": "YT81zncmAhKW",
        "colab": {
          "base_uri": "https://localhost:8080/"
        },
        "outputId": "69be2cca-abcc-4989-b7fc-0234b016cb49"
      },
      "source": [
        "mnist = fetch_openml('mnist_784', cache=False)\n",
        "mnist.data.shape\n",
        "X = mnist.data.astype('float32')\n",
        "y = mnist.target.astype('int64')\n",
        "X /= 255.0\n",
        "X.min(), X.max()\n",
        "#X_train, X_test, y_train, y_test = train_test_split(X, y, test_size=0.25, random_state=42)\n",
        " \n",
        "#assert(X_train.shape[0] + X_test.shape[0] == mnist.data.shape[0])\n",
        "#X_m=X\n",
        "#y_m=y"
      ],
      "execution_count": null,
      "outputs": [
        {
          "output_type": "execute_result",
          "data": {
            "text/plain": [
              "(0.0, 1.0)"
            ]
          },
          "metadata": {},
          "execution_count": 3
        }
      ]
    },
    {
      "cell_type": "markdown",
      "metadata": {
        "id": "8UHUCxRmDKVL"
      },
      "source": [
        ""
      ]
    },
    {
      "cell_type": "code",
      "metadata": {
        "id": "CjZUxB49slG5"
      },
      "source": [
        ""
      ],
      "execution_count": null,
      "outputs": []
    },
    {
      "cell_type": "code",
      "metadata": {
        "id": "XwKLCRBa9khL"
      },
      "source": [
        "i=-1\n",
        "T=4\n",
        "xt=np.zeros((280000,784), dtype=float)\n",
        "yt=np.zeros((280000),dtype=int)\n",
        "yt9=np.zeros((280000),dtype=int)\n",
        "from PIL import Image\n",
        "for temp in X:\n",
        "  i+=1;\n",
        "  #if i==2:\n",
        "    #break\n",
        "  img=temp.reshape(28, 28)\n",
        "  #plt.imshow(img)\n",
        "  j=0;\n",
        "  for j in range(T):\n",
        "      img=np.rot90(img)\n",
        "      T1=img.reshape(1,784)\n",
        "      xt[T*i+j,:]=T1[0]\n",
        "      #print(T*i,j)\n",
        "      yt[T*i+j]=y[i]*T+j\n",
        "      \n",
        "  \n",
        " \n",
        "#plt.imshow(img)\n",
        "#xt[0,:]=img.reshape(28*28).shape\n",
        "#X[0,:].shape"
      ],
      "execution_count": null,
      "outputs": []
    },
    {
      "cell_type": "code",
      "metadata": {
        "colab": {
          "base_uri": "https://localhost:8080/",
          "height": 282
        },
        "id": "PHhmFnNA3xo6",
        "outputId": "ee9525cd-6c37-48d6-d28c-024d0b52bb07"
      },
      "source": [
        "i=20582\n",
        "plt.imshow(xt[i,:].reshape(28,28))\n",
        "print(yt[i])\n",
        "\n"
      ],
      "execution_count": null,
      "outputs": [
        {
          "output_type": "stream",
          "text": [
            "26\n"
          ],
          "name": "stdout"
        },
        {
          "output_type": "display_data",
          "data": {
            "image/png": "[encoded data removed]",
            "text/plain": [
              "<Figure size 432x288 with 1 Axes>"
            ]
          },
          "metadata": {
            "needs_background": "light"
          }
        }
      ]
    },
    {
      "cell_type": "code",
      "metadata": {
        "id": "F6Yjde2oEgUA"
      },
      "source": [
        "X=xt\n",
        "y=yt\n",
        "#T=1\n",
        "X_train, X_test, y_train, y_test = train_test_split(X, y, test_size=0.2, random_state=42)\n",
        "assert(X_train.shape[0] + X_test.shape[0] == mnist.data.shape[0]*T)\n"
      ],
      "execution_count": null,
      "outputs": []
    },
    {
      "cell_type": "code",
      "metadata": {
        "id": "bIPFG6fJDSas",
        "colab": {
          "base_uri": "https://localhost:8080/",
          "height": 142
        },
        "outputId": "26ee7006-2121-4ba3-f586-e6d3255a80fc"
      },
      "source": [
        "def plot_example(X, y):\n",
        "    \"\"\"Plot the first 5 images and their labels in a row.\"\"\"\n",
        "    for i, (img, y) in enumerate(zip(X[:5].reshape(5, 28, 28), y[:5])):\n",
        "        plt.subplot(151 + i)\n",
        "        plt.imshow(img)\n",
        "        plt.xticks([])\n",
        "        plt.yticks([])\n",
        "        plt.title(y)\n",
        "plot_example(X_train, y_train)\n",
        "print(X.shape[0])\n",
        "(X[:5].shape)"
      ],
      "execution_count": null,
      "outputs": [
        {
          "output_type": "stream",
          "text": [
            "280000\n"
          ],
          "name": "stdout"
        },
        {
          "output_type": "execute_result",
          "data": {
            "text/plain": [
              "(5, 784)"
            ]
          },
          "metadata": {},
          "execution_count": 7
        },
        {
          "output_type": "display_data",
          "data": {
            "image/png": "[encoded data removed]",
            "text/plain": [
              "<Figure size 432x288 with 5 Axes>"
            ]
          },
          "metadata": {}
        }
      ]
    },
    {
      "cell_type": "code",
      "metadata": {
        "id": "bz6LDCNi5Ygf",
        "colab": {
          "base_uri": "https://localhost:8080/",
          "height": 1000
        },
        "outputId": "bb092446-33b1-47e1-c087-86bbcf78f68f"
      },
      "source": [
        "device = 'cuda' if torch.cuda.is_available() else 'cpu'\n",
        "mnist_dim = X.shape[1]\n",
        "hidden_dim = int(mnist_dim/8)\n",
        "output_dim = T*len(np.unique(mnist.target))\n",
        "mnist_dim, hidden_dim, output_dim\n",
        "class ClassifierModule(nn.Module):\n",
        "    def __init__(\n",
        "            self,\n",
        "            input_dim1=mnist_dim,\n",
        "            hidden_dim=hidden_dim,\n",
        "            output_dim=output_dim,\n",
        "            dropout=0,\n",
        "    ):\n",
        "        super(ClassifierModule, self).__init__()\n",
        "        self.dropout = nn.Dropout(dropout)\n",
        "\n",
        "        self.hidden = nn.Linear(input_dim1, 8)\n",
        "        self.hidden1 =nn.Linear(8, 16)\n",
        "        self.hidden2 =nn.Linear(16, 12)\n",
        "        self.hidden3 =nn.Linear(12, 8)\n",
        "        self.output4 = nn.Linear(8, output_dim)\n",
        "\n",
        "    def forward(self, X, **kwargs):\n",
        "        X = F.relu(self.hidden(X))\n",
        "        X = F.relu(self.hidden1(X))\n",
        "        X = F.relu(self.hidden2(X))\n",
        "        X = F.relu(self.hidden3(X))\n",
        "        \n",
        "\n",
        "        X = self.dropout(X)\n",
        "        if test_flag==True:\n",
        "                  X+=torch.randn(X.shape)\n",
        "                  #X=torch.float64(X)\n",
        "        X = F.softmax(self.output4(X), dim=-1)\n",
        "        return X\n",
        "from skorch import NeuralNetClassifier\n",
        "\n",
        "torch.manual_seed(0)\n",
        "\n",
        "net = NeuralNetClassifier(\n",
        "    ClassifierModule,\n",
        "    max_epochs=150,\n",
        "    lr=0.15,\n",
        "    device=device,\n",
        ")\n",
        "test_flag=False\n",
        "net.fit(np.float32(X_train), y_train);\n",
        "\n",
        "from sklearn.metrics import accuracy_score\n",
        "test_flag=False  # with noise in test time  \n",
        "y_pred = net.predict(np.float32(X_test))\n",
        "print(accuracy_score(y_test, y_pred))\n",
        "error_mask = y_pred != y_test\n",
        "plot_example(X_test[error_mask], y_pred[error_mask])\n"
      ],
      "execution_count": null,
      "outputs": [
        {
          "output_type": "stream",
          "text": [
            "  epoch    train_loss    valid_acc    valid_loss     dur\n",
            "-------  ------------  -----------  ------------  ------\n",
            "      1        \u001b[36m2.6092\u001b[0m       \u001b[32m0.5208\u001b[0m        \u001b[35m1.5617\u001b[0m  4.0473\n",
            "      2        \u001b[36m1.3383\u001b[0m       \u001b[32m0.6513\u001b[0m        \u001b[35m1.1402\u001b[0m  3.8278\n",
            "      3        \u001b[36m1.0946\u001b[0m       \u001b[32m0.6917\u001b[0m        \u001b[35m1.0069\u001b[0m  3.8002\n",
            "      4        \u001b[36m0.9925\u001b[0m       \u001b[32m0.7162\u001b[0m        \u001b[35m0.9518\u001b[0m  3.7145\n",
            "      5        \u001b[36m0.9438\u001b[0m       \u001b[32m0.7218\u001b[0m        \u001b[35m0.9344\u001b[0m  3.7091\n",
            "      6        \u001b[36m0.9127\u001b[0m       \u001b[32m0.7392\u001b[0m        \u001b[35m0.8827\u001b[0m  3.8651\n",
            "      7        \u001b[36m0.8870\u001b[0m       0.7323        0.8963  3.7727\n",
            "      8        \u001b[36m0.8689\u001b[0m       \u001b[32m0.7513\u001b[0m        \u001b[35m0.8419\u001b[0m  3.8352\n",
            "      9        \u001b[36m0.8519\u001b[0m       0.7461        0.8665  3.8580\n",
            "     10        \u001b[36m0.8403\u001b[0m       \u001b[32m0.7528\u001b[0m        0.8430  3.7412\n",
            "     11        \u001b[36m0.8334\u001b[0m       0.7450        0.8749  3.7834\n",
            "     12        \u001b[36m0.8235\u001b[0m       \u001b[32m0.7652\u001b[0m        \u001b[35m0.8074\u001b[0m  3.7141\n",
            "     13        \u001b[36m0.8149\u001b[0m       0.7571        0.8254  3.8487\n",
            "     14        \u001b[36m0.8106\u001b[0m       \u001b[32m0.7726\u001b[0m        \u001b[35m0.7669\u001b[0m  3.7129\n",
            "     15        \u001b[36m0.8008\u001b[0m       0.7655        0.7867  3.8239\n",
            "     16        \u001b[36m0.7951\u001b[0m       0.7567        0.8210  3.8823\n",
            "     17        \u001b[36m0.7897\u001b[0m       0.7543        0.8329  3.8820\n",
            "     18        \u001b[36m0.7846\u001b[0m       \u001b[32m0.7767\u001b[0m        \u001b[35m0.7483\u001b[0m  3.8429\n",
            "     19        \u001b[36m0.7794\u001b[0m       \u001b[32m0.7772\u001b[0m        \u001b[35m0.7424\u001b[0m  3.8390\n",
            "     20        \u001b[36m0.7736\u001b[0m       0.7729        0.7487  3.8274\n",
            "     21        \u001b[36m0.7717\u001b[0m       0.7751        \u001b[35m0.7418\u001b[0m  3.7999\n",
            "     22        \u001b[36m0.7665\u001b[0m       \u001b[32m0.7794\u001b[0m        \u001b[35m0.7305\u001b[0m  3.7488\n",
            "     23        \u001b[36m0.7630\u001b[0m       \u001b[32m0.7806\u001b[0m        \u001b[35m0.7268\u001b[0m  3.7968\n",
            "     24        \u001b[36m0.7595\u001b[0m       \u001b[32m0.7862\u001b[0m        \u001b[35m0.7048\u001b[0m  3.8869\n",
            "     25        \u001b[36m0.7579\u001b[0m       \u001b[32m0.7867\u001b[0m        0.7050  3.7400\n",
            "     26        \u001b[36m0.7550\u001b[0m       \u001b[32m0.7878\u001b[0m        \u001b[35m0.7013\u001b[0m  3.7647\n",
            "     27        0.7552       0.7875        \u001b[35m0.7005\u001b[0m  3.6717\n",
            "     28        \u001b[36m0.7484\u001b[0m       0.7862        0.7014  3.7260\n",
            "     29        0.7512       0.7843        0.7119  3.7620\n",
            "     30        0.7497       0.7856        0.7066  3.7317\n",
            "     31        \u001b[36m0.7470\u001b[0m       0.7824        0.7214  3.8484\n",
            "     32        0.7473       \u001b[32m0.7880\u001b[0m        \u001b[35m0.6968\u001b[0m  3.7377\n",
            "     33        0.7491       0.7866        0.6973  3.7330\n",
            "     34        \u001b[36m0.7404\u001b[0m       \u001b[32m0.7934\u001b[0m        \u001b[35m0.6802\u001b[0m  3.7292\n",
            "     35        \u001b[36m0.7398\u001b[0m       0.7890        0.6915  3.7002\n",
            "     36        \u001b[36m0.7386\u001b[0m       0.7850        0.7009  3.7215\n",
            "     37        \u001b[36m0.7369\u001b[0m       0.7793        0.7181  3.7975\n",
            "     38        0.7380       0.7845        0.7040  3.7411\n",
            "     39        \u001b[36m0.7343\u001b[0m       0.7772        0.7298  3.7753\n",
            "     40        \u001b[36m0.7314\u001b[0m       0.7843        0.7054  3.8171\n",
            "     41        \u001b[36m0.7295\u001b[0m       0.7833        0.7083  3.7572\n",
            "     42        \u001b[36m0.7283\u001b[0m       0.7830        0.7044  3.8895\n",
            "     43        \u001b[36m0.7269\u001b[0m       0.7772        0.7327  3.8045\n",
            "     44        0.7293       0.7804        0.7133  3.8357\n",
            "     45        0.7301       0.7879        0.7050  3.7258\n",
            "     46        \u001b[36m0.7225\u001b[0m       0.7859        0.7065  3.9147\n",
            "     47        0.7281       0.7870        0.6993  3.7734\n",
            "     48        0.7228       0.7809        0.7132  3.8120\n",
            "     49        0.7250       0.7843        0.7081  3.7954\n",
            "     50        0.7263       0.7858        0.7061  3.8087\n",
            "     51        0.7243       0.7874        0.6961  3.7049\n",
            "     52        \u001b[36m0.7201\u001b[0m       0.7859        0.7042  3.7206\n",
            "     53        0.7212       0.7887        0.7075  3.7400\n",
            "     54        \u001b[36m0.7195\u001b[0m       0.7923        \u001b[35m0.6799\u001b[0m  3.7640\n",
            "     55        0.7213       0.7783        0.7352  3.7305\n",
            "     56        \u001b[36m0.7187\u001b[0m       0.7819        0.7148  3.8041\n",
            "     57        \u001b[36m0.7168\u001b[0m       0.7844        0.6999  3.7097\n",
            "     58        0.7175       0.7812        0.7199  3.7362\n",
            "     59        \u001b[36m0.7135\u001b[0m       0.7853        0.7016  3.7867\n",
            "     60        0.7148       0.7790        0.7271  3.8046\n",
            "     61        0.7143       0.7850        0.7125  3.8111\n",
            "     62        \u001b[36m0.7094\u001b[0m       0.7850        0.7086  3.7522\n",
            "     63        0.7146       0.7774        0.7362  3.8204\n",
            "     64        0.7112       0.7759        0.7288  3.7594\n",
            "     65        0.7103       0.7873        0.6875  3.7380\n",
            "     66        \u001b[36m0.7092\u001b[0m       0.7824        0.7086  3.7741\n",
            "     67        0.7127       0.7875        0.6989  3.7144\n",
            "     68        \u001b[36m0.7090\u001b[0m       0.7868        0.6981  3.7282\n",
            "     69        0.7097       0.7830        0.7060  3.7456\n",
            "     70        \u001b[36m0.7071\u001b[0m       0.7839        0.7075  3.7535\n",
            "     71        0.7083       0.7916        0.6816  3.8468\n",
            "     72        0.7099       0.7731        0.7390  3.7327\n",
            "     73        0.7078       0.7764        0.7171  3.7265\n",
            "     74        0.7081       0.7717        0.7372  3.8091\n",
            "     75        0.7087       0.7697        0.7454  3.7554\n",
            "     76        \u001b[36m0.7063\u001b[0m       0.7793        0.7136  3.7978\n",
            "     77        \u001b[36m0.7033\u001b[0m       0.7626        0.8027  3.7255\n",
            "     78        0.7035       0.7726        0.7393  3.7917\n",
            "     79        \u001b[36m0.7018\u001b[0m       0.7690        0.7593  3.7705\n",
            "     80        0.7055       0.7752        0.7261  3.7539\n",
            "     81        \u001b[36m0.6993\u001b[0m       0.7851        0.7091  3.7350\n",
            "     82        0.7018       0.7832        0.7050  3.7665\n",
            "     83        0.6995       0.7724        0.7349  3.7939\n",
            "     84        0.7008       0.7825        0.7088  3.7104\n",
            "     85        \u001b[36m0.6961\u001b[0m       0.7846        0.7043  3.7532\n",
            "     86        0.6963       0.7794        0.7222  3.7540\n",
            "     87        0.6961       0.7797        0.7051  3.7842\n",
            "     88        \u001b[36m0.6951\u001b[0m       0.7808        0.7149  3.7480\n",
            "     89        \u001b[36m0.6926\u001b[0m       0.7814        0.7081  3.7927\n",
            "     90        0.6940       0.7796        0.7127  3.7516\n",
            "     91        \u001b[36m0.6904\u001b[0m       0.7797        0.7035  3.8763\n",
            "     92        \u001b[36m0.6896\u001b[0m       0.7883        0.6864  3.7744\n",
            "     93        \u001b[36m0.6890\u001b[0m       0.7748        0.7349  3.7375\n",
            "     94        \u001b[36m0.6872\u001b[0m       0.7767        0.7226  3.9407\n",
            "     95        0.6877       0.7785        0.7155  3.8055\n",
            "     96        \u001b[36m0.6864\u001b[0m       0.7742        0.7272  3.8862\n",
            "     97        \u001b[36m0.6860\u001b[0m       0.7772        0.7117  3.8381\n",
            "     98        0.6872       0.7799        0.7100  3.7576\n",
            "     99        \u001b[36m0.6822\u001b[0m       0.7782        0.7172  3.7134\n",
            "    100        \u001b[36m0.6813\u001b[0m       0.7813        0.7023  3.7231\n",
            "    101        \u001b[36m0.6781\u001b[0m       0.7786        0.7075  3.7690\n",
            "    102        \u001b[36m0.6771\u001b[0m       0.7737        0.7226  3.8717\n",
            "    103        \u001b[36m0.6753\u001b[0m       0.7812        0.7053  3.7468\n",
            "    104        \u001b[36m0.6731\u001b[0m       0.7779        0.7133  3.7187\n",
            "    105        \u001b[36m0.6702\u001b[0m       0.7772        0.7184  3.7345\n",
            "    106        \u001b[36m0.6684\u001b[0m       0.7846        0.6952  3.7300\n",
            "    107        0.6708       0.7825        0.7000  3.7729\n",
            "    108        \u001b[36m0.6681\u001b[0m       0.7803        0.6992  3.8352\n",
            "    109        0.6683       0.7738        0.7263  3.7925\n",
            "    110        \u001b[36m0.6680\u001b[0m       0.7764        0.7186  3.6989\n",
            "    111        \u001b[36m0.6644\u001b[0m       0.7820        0.7016  3.7422\n",
            "    112        \u001b[36m0.6624\u001b[0m       0.7829        0.6994  3.7292\n",
            "    113        \u001b[36m0.6620\u001b[0m       0.7711        0.7375  3.7438\n",
            "    114        \u001b[36m0.6578\u001b[0m       0.7884        \u001b[35m0.6769\u001b[0m  3.7292\n",
            "    115        0.6583       0.7861        0.6864  3.7388\n",
            "    116        0.6582       \u001b[32m0.7981\u001b[0m        \u001b[35m0.6616\u001b[0m  3.8362\n",
            "    117        \u001b[36m0.6560\u001b[0m       0.7980        \u001b[35m0.6559\u001b[0m  3.8217\n",
            "    118        \u001b[36m0.6537\u001b[0m       0.7875        0.6979  3.7913\n",
            "    119        \u001b[36m0.6523\u001b[0m       0.7954        0.6602  3.8328\n",
            "    120        \u001b[36m0.6513\u001b[0m       0.7913        0.6668  3.7636\n",
            "    121        0.6583       \u001b[32m0.8014\u001b[0m        \u001b[35m0.6431\u001b[0m  3.7429\n",
            "    122        0.6518       \u001b[32m0.8039\u001b[0m        \u001b[35m0.6387\u001b[0m  3.7840\n",
            "    123        \u001b[36m0.6485\u001b[0m       0.8021        0.6404  3.7090\n",
            "    124        0.6506       0.7983        0.6521  3.6681\n",
            "    125        \u001b[36m0.6483\u001b[0m       0.7995        0.6520  3.7071\n",
            "    126        0.6499       \u001b[32m0.8049\u001b[0m        \u001b[35m0.6329\u001b[0m  3.7087\n",
            "    127        \u001b[36m0.6432\u001b[0m       \u001b[32m0.8079\u001b[0m        \u001b[35m0.6246\u001b[0m  3.7768\n",
            "    128        0.6471       0.8070        0.6351  3.7109\n",
            "    129        \u001b[36m0.6430\u001b[0m       0.8064        0.6285  3.8015\n",
            "    130        \u001b[36m0.6410\u001b[0m       0.8078        0.6261  3.7392\n",
            "    131        0.6425       0.8068        0.6284  3.8424\n",
            "    132        \u001b[36m0.6388\u001b[0m       0.8041        0.6340  3.7208\n",
            "    133        \u001b[36m0.6372\u001b[0m       0.8070        0.6357  3.7793\n",
            "    134        \u001b[36m0.6345\u001b[0m       0.8038        0.6365  3.8399\n",
            "    135        \u001b[36m0.6327\u001b[0m       0.8028        0.6453  3.7293\n",
            "    136        0.6341       \u001b[32m0.8079\u001b[0m        0.6348  3.7090\n",
            "    137        \u001b[36m0.6311\u001b[0m       0.7965        0.6856  3.7477\n",
            "    138        0.6315       0.8006        0.6535  3.7417\n",
            "    139        0.6346       0.8044        0.6464  3.7085\n",
            "    140        \u001b[36m0.6298\u001b[0m       0.7814        0.7793  3.7548\n",
            "    141        0.6310       0.8041        0.6490  3.8325\n",
            "    142        \u001b[36m0.6280\u001b[0m       0.8074        0.6343  3.8417\n",
            "    143        \u001b[36m0.6266\u001b[0m       0.8041        0.6490  3.7276\n",
            "    144        0.6288       0.8054        0.6414  3.7416\n",
            "    145        0.6280       0.8031        0.6527  3.8324\n",
            "    146        0.6273       0.8064        0.6380  3.7795\n",
            "    147        \u001b[36m0.6242\u001b[0m       0.7906        0.7247  3.9216\n",
            "    148        0.6344       0.8012        0.6558  3.8306\n",
            "    149        0.6246       0.8037        0.6500  3.7930\n",
            "    150        0.6250       \u001b[32m0.8082\u001b[0m        0.6292  3.7163\n",
            "0.8076607142857143\n"
          ],
          "name": "stdout"
        },
        {
          "output_type": "display_data",
          "data": {
            "image/png": "[encoded data removed]",
            "text/plain": [
              "<Figure size 432x288 with 5 Axes>"
            ]
          },
          "metadata": {}
        }
      ]
    },
    {
      "cell_type": "code",
      "metadata": {
        "id": "A0AH7VSN7Vn0",
        "colab": {
          "base_uri": "https://localhost:8080/"
        },
        "outputId": "1b795cc4-4133-4eaa-9d44-63c0a6025db3"
      },
      "source": [
        "h1=net.module_.hidden.weight\n",
        "print(h1.detach().numpy().shape)\n",
        "np.savetxt(\"111.csv\",h1.detach().numpy(), delimiter=',')\n",
        "h2= net.module_.hidden1.weight\n",
        "np.savetxt(\"222.csv\",h2.detach().numpy(), delimiter=',')\n",
        "h3= net.module_.hidden2.weight\n",
        "np.savetxt(\"333.csv\",h3.detach().numpy(), delimiter=',')\n",
        "h4= net.module_.hidden3.weight\n",
        "np.savetxt(\"444.csv\",h4.detach().numpy(), delimiter=',')\n",
        "h5= net.module_.output4.weight\n",
        "np.savetxt(\"555.csv\",h5.detach().numpy(), delimiter=',')\n",
        "\n"
      ],
      "execution_count": null,
      "outputs": [
        {
          "output_type": "stream",
          "text": [
            "(8, 784)\n"
          ],
          "name": "stdout"
        }
      ]
    },
    {
      "cell_type": "code",
      "metadata": {
        "colab": {
          "base_uri": "https://localhost:8080/"
        },
        "id": "NPkcwuQkSthI",
        "outputId": "8e7ddc17-4bad-4edf-8562-e0b50b192177"
      },
      "source": [
        "b1 = net.module_.hidden.bias;\n",
        "print(b1)\n",
        "\n",
        "b2 = net.module_.hidden1.bias;\n",
        "print(b2)\n",
        "\n",
        "b3 = net.module_.hidden2.bias;\n",
        "print(b3)\n",
        "\n",
        "b4 = net.module_.hidden3.bias;\n",
        "print(b4)\n",
        "\n",
        "\n",
        "b5 = net.module_.output4.bias;\n",
        "print(b5)\n"
      ],
      "execution_count": null,
      "outputs": [
        {
          "output_type": "stream",
          "text": [
            "Parameter containing:\n",
            "tensor([2.9851, 0.8467, 1.8964, 2.9366, 3.7874, 0.6813, 1.9752, 0.5708],\n",
            "       requires_grad=True)\n",
            "Parameter containing:\n",
            "tensor([-0.8909,  3.1375, -0.9986,  1.4742,  6.6393,  5.6268,  2.5455, -2.2740,\n",
            "         5.2660,  0.1251,  2.4599,  7.3509, -2.3175, -4.1341,  2.2511, -3.4067],\n",
            "       requires_grad=True)\n",
            "Parameter containing:\n",
            "tensor([ 1.2774, -1.9519, -0.7424, -0.5910, -0.1406,  1.4695,  1.7393,  2.1252,\n",
            "         4.3853, -1.1400,  1.0052, -2.1643], requires_grad=True)\n",
            "Parameter containing:\n",
            "tensor([ 1.5017,  0.1662,  2.6586,  2.5365,  1.3033,  3.9124, -0.1954, -0.8800],\n",
            "       requires_grad=True)\n",
            "Parameter containing:\n",
            "tensor([ 1.5805e+00,  1.5317e+00, -2.7760e+00,  1.0533e+00, -9.8251e-02,\n",
            "         4.9737e-01, -1.3128e+00,  2.0145e+00,  1.5262e-01, -1.8041e+00,\n",
            "         8.4457e-02, -3.3549e+00,  3.7815e+00,  4.7976e+00, -6.8797e-01,\n",
            "        -5.7070e-01, -3.4836e+00, -1.6651e+00, -7.1152e-01, -6.2390e-01,\n",
            "         4.9149e+00,  4.3996e+00,  4.0420e+00,  4.8088e+00, -3.6460e+00,\n",
            "         5.0570e-01,  6.5232e-01, -6.7006e-01, -2.6455e+00, -2.2698e+00,\n",
            "        -5.2573e+00, -1.6270e+00, -8.5105e-01,  8.9991e-02,  1.7505e+00,\n",
            "         3.1373e+00, -3.5241e+00, -2.7846e+00, -7.9315e-01,  4.0354e-03],\n",
            "       requires_grad=True)\n"
          ],
          "name": "stdout"
        }
      ]
    },
    {
      "cell_type": "markdown",
      "metadata": {
        "id": "z9DoBnKBL5yj"
      },
      "source": [
        "# New Section"
      ]
    },
    {
      "cell_type": "code",
      "metadata": {
        "id": "fjiAzfUvGy_g",
        "colab": {
          "base_uri": "https://localhost:8080/"
        },
        "outputId": "75069095-5afe-4a14-d416-22f0e55a820f"
      },
      "source": [
        "output_dim = T*len(np.unique(mnist.target))\n",
        "print(max(y_train))"
      ],
      "execution_count": null,
      "outputs": [
        {
          "output_type": "stream",
          "text": [
            "39\n"
          ],
          "name": "stdout"
        }
      ]
    },
    {
      "cell_type": "markdown",
      "metadata": {
        "id": "WTac4C-D_z40"
      },
      "source": [
        ""
      ]
    },
    {
      "cell_type": "code",
      "metadata": {
        "id": "9FrSvolJ_0Sy",
        "colab": {
          "base_uri": "https://localhost:8080/"
        },
        "outputId": "e239e6d6-eadc-421d-d664-72af944fa74f"
      },
      "source": [
        "print(accuracy_score(y_test, y_pred))\n"
      ],
      "execution_count": null,
      "outputs": [
        {
          "output_type": "stream",
          "text": [
            "0.8076607142857143\n"
          ],
          "name": "stdout"
        }
      ]
    },
    {
      "cell_type": "code",
      "metadata": {
        "id": "UUZ2XX6kMN4W"
      },
      "source": [
        "\n",
        "\n"
      ],
      "execution_count": null,
      "outputs": []
    },
    {
      "cell_type": "code",
      "metadata": {
        "id": "F5KX4i3wRTiZ"
      },
      "source": [
        "Y_classify_test=np.zeros(y_test.shape)\n",
        "Y_classify_pred=np.zeros(y_test.shape)\n",
        "Y_ssl_test=np.zeros(y_test.shape)\n",
        "Y_ssl_pred=np.zeros(y_test.shape)\n",
        "\n",
        "for count in range(10):\n",
        "  Y_classify_test[(y_test>=count*T) & (y_test<(count+1)*T)]=count\n",
        "  Y_classify_pred[(y_pred>=count*T) & (y_pred<(count+1)*T)]=count\n",
        "\n",
        "for c in range(T):\n",
        "  Y_ssl_test[y_test % T==c]=np.int(c)\n",
        "  Y_ssl_pred[y_pred % T==c]=np.int(c)"
      ],
      "execution_count": null,
      "outputs": []
    },
    {
      "cell_type": "code",
      "metadata": {
        "id": "SIyJ15eWLrZ9",
        "colab": {
          "base_uri": "https://localhost:8080/",
          "height": 160
        },
        "outputId": "feaf00da-feeb-498f-8d8e-0f7d7645d19e"
      },
      "source": [
        "print(\"Total accuracy:\", accuracy_score(y_test, y_pred))\n",
        "print(\"Classifcation Accuravy:\", accuracy_score(Y_classify_test, Y_classify_pred))\n",
        "print(\"SSL Task accuracy:\", accuracy_score(Y_ssl_test,Y_ssl_pred))\n",
        "\n",
        "\n",
        "error_mask = y_pred != y_test\n",
        "plot_example(X_test[error_mask], y_pred[error_mask]%T)\n",
        "\n"
      ],
      "execution_count": null,
      "outputs": [
        {
          "output_type": "stream",
          "text": [
            "Total accuracy: 0.8076607142857143\n",
            "Classifcation Accuravy: 0.8111428571428572\n",
            "SSL Task accuracy: 0.9840535714285714\n"
          ],
          "name": "stdout"
        },
        {
          "output_type": "display_data",
          "data": {
            "image/png": "[encoded data removed]",
            "text/plain": [
              "<Figure size 432x288 with 5 Axes>"
            ]
          },
          "metadata": {}
        }
      ]
    },
    {
      "cell_type": "code",
      "metadata": {
        "id": "FSigmZ3XshJc",
        "colab": {
          "base_uri": "https://localhost:8080/",
          "height": 108
        },
        "outputId": "5027d027-9386-407e-dd2c-dd822cd44b13"
      },
      "source": [
        "error_mask = Y_classify_test != Y_classify_pred\n",
        "plot_example(X_test[error_mask], Y_classify_pred[error_mask])"
      ],
      "execution_count": null,
      "outputs": [
        {
          "output_type": "display_data",
          "data": {
            "image/png": "[encoded data removed]",
            "text/plain": [
              "<Figure size 432x288 with 5 Axes>"
            ]
          },
          "metadata": {}
        }
      ]
    },
    {
      "cell_type": "code",
      "metadata": {
        "id": "J2jI5XLUtBjd",
        "colab": {
          "base_uri": "https://localhost:8080/",
          "height": 108
        },
        "outputId": "d5952aff-35b9-4068-91cb-e5a1ee032e5b"
      },
      "source": [
        "error_mask = Y_ssl_test != Y_ssl_pred\n",
        "plot_example(X_test[error_mask], Y_ssl_pred[error_mask])"
      ],
      "execution_count": null,
      "outputs": [
        {
          "output_type": "display_data",
          "data": {
            "image/png": "[encoded data removed]",
            "text/plain": [
              "<Figure size 432x288 with 5 Axes>"
            ]
          },
          "metadata": {}
        }
      ]
    },
    {
      "cell_type": "code",
      "metadata": {
        "colab": {
          "base_uri": "https://localhost:8080/"
        },
        "id": "rz3CCWOsyc5k",
        "outputId": "7285d8cc-44cb-42cc-9e79-4a7a35cde38b"
      },
      "source": [
        "a0 = [1 ,0.5, .1, -1 ,0]\n",
        "a = torch.tensor(np.asarray(a0))\n",
        "b = F.softmax(a)\n",
        "print(b)"
      ],
      "execution_count": null,
      "outputs": [
        {
          "output_type": "stream",
          "text": [
            "tensor([0.3974, 0.2410, 0.1616, 0.0538, 0.1462], dtype=torch.float64)\n"
          ],
          "name": "stdout"
        },
        {
          "output_type": "stream",
          "text": [
            "/usr/local/lib/python3.7/dist-packages/ipykernel_launcher.py:3: UserWarning: Implicit dimension choice for softmax has been deprecated. Change the call to include dim=X as an argument.\n",
            "  This is separate from the ipykernel package so we can avoid doing imports until\n"
          ],
          "name": "stderr"
        }
      ]
    }
  ]
}